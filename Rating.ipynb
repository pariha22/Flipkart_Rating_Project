{
 "cells": [
  {
   "cell_type": "code",
   "execution_count": 1,
   "id": "45a70e96",
   "metadata": {},
   "outputs": [],
   "source": [
    "import pandas as pd\n",
    "import numpy as np\n",
    "import matplotlib.pyplot as plt\n",
    "\n",
    "#list of useful imports that  I will use\n",
    "%matplotlib inline\n",
    "import os\n",
    "\n",
    "import matplotlib.pyplot as plt\n",
    "import pandas as pd\n",
    "\n",
    "import numpy as np\n",
    "\n",
    "import seaborn as sns\n",
    "import random\n",
    "from sklearn.feature_extraction.text import TfidfTransformer\n",
    "from sklearn.feature_extraction.text import TfidfVectorizer\n",
    "\n",
    "from sklearn.feature_extraction.text import CountVectorizer\n",
    "from sklearn.metrics import confusion_matrix\n",
    "from sklearn import metrics\n",
    "from sklearn.metrics import roc_curve, auc\n",
    "from nltk.stem.porter import PorterStemmer\n",
    "\n",
    "from nltk.corpus import stopwords \n",
    "from nltk.tokenize import word_tokenize\n",
    "# Imputer\n",
    "#from sklearn.preprocessing import Imputer\n",
    "\n",
    "from sklearn.impute import SimpleImputer\n"
   ]
  },
  {
   "cell_type": "code",
   "execution_count": 2,
   "id": "99ae6524",
   "metadata": {},
   "outputs": [
    {
     "data": {
      "text/html": [
       "<div>\n",
       "<style scoped>\n",
       "    .dataframe tbody tr th:only-of-type {\n",
       "        vertical-align: middle;\n",
       "    }\n",
       "\n",
       "    .dataframe tbody tr th {\n",
       "        vertical-align: top;\n",
       "    }\n",
       "\n",
       "    .dataframe thead th {\n",
       "        text-align: right;\n",
       "    }\n",
       "</style>\n",
       "<table border=\"1\" class=\"dataframe\">\n",
       "  <thead>\n",
       "    <tr style=\"text-align: right;\">\n",
       "      <th></th>\n",
       "      <th>product_name</th>\n",
       "      <th>product_price</th>\n",
       "      <th>Rate</th>\n",
       "      <th>Review</th>\n",
       "      <th>Summary</th>\n",
       "      <th>Sentiment</th>\n",
       "    </tr>\n",
       "  </thead>\n",
       "  <tbody>\n",
       "    <tr>\n",
       "      <th>0</th>\n",
       "      <td>Candes 12 L Room/Personal Air Cooler??????(Whi...</td>\n",
       "      <td>3999</td>\n",
       "      <td>5</td>\n",
       "      <td>super!</td>\n",
       "      <td>great cooler excellent air flow and for this p...</td>\n",
       "      <td>positive</td>\n",
       "    </tr>\n",
       "    <tr>\n",
       "      <th>1</th>\n",
       "      <td>Candes 12 L Room/Personal Air Cooler??????(Whi...</td>\n",
       "      <td>3999</td>\n",
       "      <td>5</td>\n",
       "      <td>awesome</td>\n",
       "      <td>best budget 2 fit cooler nice cooling</td>\n",
       "      <td>positive</td>\n",
       "    </tr>\n",
       "    <tr>\n",
       "      <th>2</th>\n",
       "      <td>Candes 12 L Room/Personal Air Cooler??????(Whi...</td>\n",
       "      <td>3999</td>\n",
       "      <td>3</td>\n",
       "      <td>fair</td>\n",
       "      <td>the quality is good but the power of air is de...</td>\n",
       "      <td>positive</td>\n",
       "    </tr>\n",
       "    <tr>\n",
       "      <th>3</th>\n",
       "      <td>Candes 12 L Room/Personal Air Cooler??????(Whi...</td>\n",
       "      <td>3999</td>\n",
       "      <td>1</td>\n",
       "      <td>useless product</td>\n",
       "      <td>very bad product its a only a fan</td>\n",
       "      <td>negative</td>\n",
       "    </tr>\n",
       "    <tr>\n",
       "      <th>4</th>\n",
       "      <td>Candes 12 L Room/Personal Air Cooler??????(Whi...</td>\n",
       "      <td>3999</td>\n",
       "      <td>3</td>\n",
       "      <td>fair</td>\n",
       "      <td>ok ok product</td>\n",
       "      <td>neutral</td>\n",
       "    </tr>\n",
       "    <tr>\n",
       "      <th>...</th>\n",
       "      <td>...</td>\n",
       "      <td>...</td>\n",
       "      <td>...</td>\n",
       "      <td>...</td>\n",
       "      <td>...</td>\n",
       "      <td>...</td>\n",
       "    </tr>\n",
       "    <tr>\n",
       "      <th>205044</th>\n",
       "      <td>cello Pack of 18 Opalware Cello Dazzle Lush Fi...</td>\n",
       "      <td>1299</td>\n",
       "      <td>5</td>\n",
       "      <td>must buy!</td>\n",
       "      <td>good product</td>\n",
       "      <td>positive</td>\n",
       "    </tr>\n",
       "    <tr>\n",
       "      <th>205045</th>\n",
       "      <td>cello Pack of 18 Opalware Cello Dazzle Lush Fi...</td>\n",
       "      <td>1299</td>\n",
       "      <td>5</td>\n",
       "      <td>super!</td>\n",
       "      <td>nice</td>\n",
       "      <td>positive</td>\n",
       "    </tr>\n",
       "    <tr>\n",
       "      <th>205046</th>\n",
       "      <td>cello Pack of 18 Opalware Cello Dazzle Lush Fi...</td>\n",
       "      <td>1299</td>\n",
       "      <td>3</td>\n",
       "      <td>nice</td>\n",
       "      <td>very nice and fast delivery</td>\n",
       "      <td>positive</td>\n",
       "    </tr>\n",
       "    <tr>\n",
       "      <th>205047</th>\n",
       "      <td>cello Pack of 18 Opalware Cello Dazzle Lush Fi...</td>\n",
       "      <td>1299</td>\n",
       "      <td>5</td>\n",
       "      <td>just wow!</td>\n",
       "      <td>awesome product</td>\n",
       "      <td>positive</td>\n",
       "    </tr>\n",
       "    <tr>\n",
       "      <th>205048</th>\n",
       "      <td>cello Pack of 18 Opalware Cello Dazzle Lush Fi...</td>\n",
       "      <td>1299</td>\n",
       "      <td>4</td>\n",
       "      <td>value-for-money</td>\n",
       "      <td>very good but mixing bowl not included is one ...</td>\n",
       "      <td>neutral</td>\n",
       "    </tr>\n",
       "  </tbody>\n",
       "</table>\n",
       "<p>205049 rows × 6 columns</p>\n",
       "</div>"
      ],
      "text/plain": [
       "                                             product_name  product_price  \\\n",
       "0       Candes 12 L Room/Personal Air Cooler??????(Whi...           3999   \n",
       "1       Candes 12 L Room/Personal Air Cooler??????(Whi...           3999   \n",
       "2       Candes 12 L Room/Personal Air Cooler??????(Whi...           3999   \n",
       "3       Candes 12 L Room/Personal Air Cooler??????(Whi...           3999   \n",
       "4       Candes 12 L Room/Personal Air Cooler??????(Whi...           3999   \n",
       "...                                                   ...            ...   \n",
       "205044  cello Pack of 18 Opalware Cello Dazzle Lush Fi...           1299   \n",
       "205045  cello Pack of 18 Opalware Cello Dazzle Lush Fi...           1299   \n",
       "205046  cello Pack of 18 Opalware Cello Dazzle Lush Fi...           1299   \n",
       "205047  cello Pack of 18 Opalware Cello Dazzle Lush Fi...           1299   \n",
       "205048  cello Pack of 18 Opalware Cello Dazzle Lush Fi...           1299   \n",
       "\n",
       "        Rate           Review  \\\n",
       "0          5           super!   \n",
       "1          5          awesome   \n",
       "2          3             fair   \n",
       "3          1  useless product   \n",
       "4          3             fair   \n",
       "...      ...              ...   \n",
       "205044     5        must buy!   \n",
       "205045     5           super!   \n",
       "205046     3             nice   \n",
       "205047     5        just wow!   \n",
       "205048     4  value-for-money   \n",
       "\n",
       "                                                  Summary Sentiment  \n",
       "0       great cooler excellent air flow and for this p...  positive  \n",
       "1                   best budget 2 fit cooler nice cooling  positive  \n",
       "2       the quality is good but the power of air is de...  positive  \n",
       "3                       very bad product its a only a fan  negative  \n",
       "4                                           ok ok product   neutral  \n",
       "...                                                   ...       ...  \n",
       "205044                                       good product  positive  \n",
       "205045                                               nice  positive  \n",
       "205046                        very nice and fast delivery  positive  \n",
       "205047                                    awesome product  positive  \n",
       "205048  very good but mixing bowl not included is one ...   neutral  \n",
       "\n",
       "[205049 rows x 6 columns]"
      ]
     },
     "execution_count": 2,
     "metadata": {},
     "output_type": "execute_result"
    }
   ],
   "source": [
    "# Reading Dataset\n",
    "data=pd.read_csv(r\"C:\\Users\\ST-008\\Desktop\\Flipkart\\DATASET\\Dataset-SA.csv\")\n",
    "data"
   ]
  },
  {
   "cell_type": "code",
   "execution_count": 3,
   "id": "2a4a297d",
   "metadata": {},
   "outputs": [],
   "source": [
    "data[\"Review\"] = data['Review'].astype(str) +\"-\"+ data[\"Summary\"]"
   ]
  },
  {
   "cell_type": "code",
   "execution_count": 4,
   "id": "f389787a",
   "metadata": {},
   "outputs": [
    {
     "data": {
      "text/plain": [
       "(205049, 6)"
      ]
     },
     "execution_count": 4,
     "metadata": {},
     "output_type": "execute_result"
    }
   ],
   "source": [
    "data.shape"
   ]
  },
  {
   "cell_type": "code",
   "execution_count": 5,
   "id": "a80e2372",
   "metadata": {},
   "outputs": [
    {
     "data": {
      "text/plain": [
       "Index(['product_name', 'product_price', 'Rate', 'Review', 'Summary',\n",
       "       'Sentiment'],\n",
       "      dtype='object')"
      ]
     },
     "execution_count": 5,
     "metadata": {},
     "output_type": "execute_result"
    }
   ],
   "source": [
    "data.columns"
   ]
  },
  {
   "cell_type": "code",
   "execution_count": 6,
   "id": "320ea362",
   "metadata": {},
   "outputs": [
    {
     "data": {
      "text/html": [
       "<div>\n",
       "<style scoped>\n",
       "    .dataframe tbody tr th:only-of-type {\n",
       "        vertical-align: middle;\n",
       "    }\n",
       "\n",
       "    .dataframe tbody tr th {\n",
       "        vertical-align: top;\n",
       "    }\n",
       "\n",
       "    .dataframe thead th {\n",
       "        text-align: right;\n",
       "    }\n",
       "</style>\n",
       "<table border=\"1\" class=\"dataframe\">\n",
       "  <thead>\n",
       "    <tr style=\"text-align: right;\">\n",
       "      <th></th>\n",
       "      <th>product_name</th>\n",
       "      <th>product_price</th>\n",
       "      <th>Rate</th>\n",
       "      <th>Review</th>\n",
       "      <th>Summary</th>\n",
       "      <th>Sentiment</th>\n",
       "    </tr>\n",
       "  </thead>\n",
       "  <tbody>\n",
       "    <tr>\n",
       "      <th>0</th>\n",
       "      <td>Candes 12 L Room/Personal Air Cooler??????(Whi...</td>\n",
       "      <td>3999</td>\n",
       "      <td>5</td>\n",
       "      <td>super!-great cooler excellent air flow and for...</td>\n",
       "      <td>great cooler excellent air flow and for this p...</td>\n",
       "      <td>positive</td>\n",
       "    </tr>\n",
       "    <tr>\n",
       "      <th>1</th>\n",
       "      <td>Candes 12 L Room/Personal Air Cooler??????(Whi...</td>\n",
       "      <td>3999</td>\n",
       "      <td>5</td>\n",
       "      <td>awesome-best budget 2 fit cooler nice cooling</td>\n",
       "      <td>best budget 2 fit cooler nice cooling</td>\n",
       "      <td>positive</td>\n",
       "    </tr>\n",
       "    <tr>\n",
       "      <th>2</th>\n",
       "      <td>Candes 12 L Room/Personal Air Cooler??????(Whi...</td>\n",
       "      <td>3999</td>\n",
       "      <td>3</td>\n",
       "      <td>fair-the quality is good but the power of air ...</td>\n",
       "      <td>the quality is good but the power of air is de...</td>\n",
       "      <td>positive</td>\n",
       "    </tr>\n",
       "    <tr>\n",
       "      <th>3</th>\n",
       "      <td>Candes 12 L Room/Personal Air Cooler??????(Whi...</td>\n",
       "      <td>3999</td>\n",
       "      <td>1</td>\n",
       "      <td>useless product-very bad product its a only a fan</td>\n",
       "      <td>very bad product its a only a fan</td>\n",
       "      <td>negative</td>\n",
       "    </tr>\n",
       "    <tr>\n",
       "      <th>4</th>\n",
       "      <td>Candes 12 L Room/Personal Air Cooler??????(Whi...</td>\n",
       "      <td>3999</td>\n",
       "      <td>3</td>\n",
       "      <td>fair-ok ok product</td>\n",
       "      <td>ok ok product</td>\n",
       "      <td>neutral</td>\n",
       "    </tr>\n",
       "    <tr>\n",
       "      <th>...</th>\n",
       "      <td>...</td>\n",
       "      <td>...</td>\n",
       "      <td>...</td>\n",
       "      <td>...</td>\n",
       "      <td>...</td>\n",
       "      <td>...</td>\n",
       "    </tr>\n",
       "    <tr>\n",
       "      <th>205044</th>\n",
       "      <td>cello Pack of 18 Opalware Cello Dazzle Lush Fi...</td>\n",
       "      <td>1299</td>\n",
       "      <td>5</td>\n",
       "      <td>must buy!-good product</td>\n",
       "      <td>good product</td>\n",
       "      <td>positive</td>\n",
       "    </tr>\n",
       "    <tr>\n",
       "      <th>205045</th>\n",
       "      <td>cello Pack of 18 Opalware Cello Dazzle Lush Fi...</td>\n",
       "      <td>1299</td>\n",
       "      <td>5</td>\n",
       "      <td>super!-nice</td>\n",
       "      <td>nice</td>\n",
       "      <td>positive</td>\n",
       "    </tr>\n",
       "    <tr>\n",
       "      <th>205046</th>\n",
       "      <td>cello Pack of 18 Opalware Cello Dazzle Lush Fi...</td>\n",
       "      <td>1299</td>\n",
       "      <td>3</td>\n",
       "      <td>nice-very nice and fast delivery</td>\n",
       "      <td>very nice and fast delivery</td>\n",
       "      <td>positive</td>\n",
       "    </tr>\n",
       "    <tr>\n",
       "      <th>205047</th>\n",
       "      <td>cello Pack of 18 Opalware Cello Dazzle Lush Fi...</td>\n",
       "      <td>1299</td>\n",
       "      <td>5</td>\n",
       "      <td>just wow!-awesome product</td>\n",
       "      <td>awesome product</td>\n",
       "      <td>positive</td>\n",
       "    </tr>\n",
       "    <tr>\n",
       "      <th>205048</th>\n",
       "      <td>cello Pack of 18 Opalware Cello Dazzle Lush Fi...</td>\n",
       "      <td>1299</td>\n",
       "      <td>4</td>\n",
       "      <td>value-for-money-very good but mixing bowl not ...</td>\n",
       "      <td>very good but mixing bowl not included is one ...</td>\n",
       "      <td>neutral</td>\n",
       "    </tr>\n",
       "  </tbody>\n",
       "</table>\n",
       "<p>205049 rows × 6 columns</p>\n",
       "</div>"
      ],
      "text/plain": [
       "                                             product_name  product_price  \\\n",
       "0       Candes 12 L Room/Personal Air Cooler??????(Whi...           3999   \n",
       "1       Candes 12 L Room/Personal Air Cooler??????(Whi...           3999   \n",
       "2       Candes 12 L Room/Personal Air Cooler??????(Whi...           3999   \n",
       "3       Candes 12 L Room/Personal Air Cooler??????(Whi...           3999   \n",
       "4       Candes 12 L Room/Personal Air Cooler??????(Whi...           3999   \n",
       "...                                                   ...            ...   \n",
       "205044  cello Pack of 18 Opalware Cello Dazzle Lush Fi...           1299   \n",
       "205045  cello Pack of 18 Opalware Cello Dazzle Lush Fi...           1299   \n",
       "205046  cello Pack of 18 Opalware Cello Dazzle Lush Fi...           1299   \n",
       "205047  cello Pack of 18 Opalware Cello Dazzle Lush Fi...           1299   \n",
       "205048  cello Pack of 18 Opalware Cello Dazzle Lush Fi...           1299   \n",
       "\n",
       "        Rate                                             Review  \\\n",
       "0          5  super!-great cooler excellent air flow and for...   \n",
       "1          5      awesome-best budget 2 fit cooler nice cooling   \n",
       "2          3  fair-the quality is good but the power of air ...   \n",
       "3          1  useless product-very bad product its a only a fan   \n",
       "4          3                                 fair-ok ok product   \n",
       "...      ...                                                ...   \n",
       "205044     5                             must buy!-good product   \n",
       "205045     5                                        super!-nice   \n",
       "205046     3                   nice-very nice and fast delivery   \n",
       "205047     5                          just wow!-awesome product   \n",
       "205048     4  value-for-money-very good but mixing bowl not ...   \n",
       "\n",
       "                                                  Summary Sentiment  \n",
       "0       great cooler excellent air flow and for this p...  positive  \n",
       "1                   best budget 2 fit cooler nice cooling  positive  \n",
       "2       the quality is good but the power of air is de...  positive  \n",
       "3                       very bad product its a only a fan  negative  \n",
       "4                                           ok ok product   neutral  \n",
       "...                                                   ...       ...  \n",
       "205044                                       good product  positive  \n",
       "205045                                               nice  positive  \n",
       "205046                        very nice and fast delivery  positive  \n",
       "205047                                    awesome product  positive  \n",
       "205048  very good but mixing bowl not included is one ...   neutral  \n",
       "\n",
       "[205049 rows x 6 columns]"
      ]
     },
     "execution_count": 6,
     "metadata": {},
     "output_type": "execute_result"
    }
   ],
   "source": [
    "data"
   ]
  },
  {
   "cell_type": "code",
   "execution_count": 7,
   "id": "5aea39ce",
   "metadata": {},
   "outputs": [
    {
     "data": {
      "text/plain": [
       "product_name      0\n",
       "product_price     0\n",
       "Rate              0\n",
       "Review           11\n",
       "Summary          11\n",
       "Sentiment         0\n",
       "dtype: int64"
      ]
     },
     "execution_count": 7,
     "metadata": {},
     "output_type": "execute_result"
    }
   ],
   "source": [
    "# let us check the missing values in our dataset\n",
    "\n",
    "data.isnull().sum()"
   ]
  },
  {
   "cell_type": "code",
   "execution_count": 8,
   "id": "97ca72a9",
   "metadata": {},
   "outputs": [
    {
     "data": {
      "text/html": [
       "<div>\n",
       "<style scoped>\n",
       "    .dataframe tbody tr th:only-of-type {\n",
       "        vertical-align: middle;\n",
       "    }\n",
       "\n",
       "    .dataframe tbody tr th {\n",
       "        vertical-align: top;\n",
       "    }\n",
       "\n",
       "    .dataframe thead th {\n",
       "        text-align: right;\n",
       "    }\n",
       "</style>\n",
       "<table border=\"1\" class=\"dataframe\">\n",
       "  <thead>\n",
       "    <tr style=\"text-align: right;\">\n",
       "      <th></th>\n",
       "      <th>product_name</th>\n",
       "      <th>product_price</th>\n",
       "      <th>Rate</th>\n",
       "      <th>Review</th>\n",
       "      <th>Sentiment</th>\n",
       "    </tr>\n",
       "  </thead>\n",
       "  <tbody>\n",
       "    <tr>\n",
       "      <th>0</th>\n",
       "      <td>Candes 12 L Room/Personal Air Cooler??????(Whi...</td>\n",
       "      <td>3999</td>\n",
       "      <td>5</td>\n",
       "      <td>super!-great cooler excellent air flow and for...</td>\n",
       "      <td>positive</td>\n",
       "    </tr>\n",
       "    <tr>\n",
       "      <th>1</th>\n",
       "      <td>Candes 12 L Room/Personal Air Cooler??????(Whi...</td>\n",
       "      <td>3999</td>\n",
       "      <td>5</td>\n",
       "      <td>awesome-best budget 2 fit cooler nice cooling</td>\n",
       "      <td>positive</td>\n",
       "    </tr>\n",
       "    <tr>\n",
       "      <th>2</th>\n",
       "      <td>Candes 12 L Room/Personal Air Cooler??????(Whi...</td>\n",
       "      <td>3999</td>\n",
       "      <td>3</td>\n",
       "      <td>fair-the quality is good but the power of air ...</td>\n",
       "      <td>positive</td>\n",
       "    </tr>\n",
       "    <tr>\n",
       "      <th>3</th>\n",
       "      <td>Candes 12 L Room/Personal Air Cooler??????(Whi...</td>\n",
       "      <td>3999</td>\n",
       "      <td>1</td>\n",
       "      <td>useless product-very bad product its a only a fan</td>\n",
       "      <td>negative</td>\n",
       "    </tr>\n",
       "    <tr>\n",
       "      <th>4</th>\n",
       "      <td>Candes 12 L Room/Personal Air Cooler??????(Whi...</td>\n",
       "      <td>3999</td>\n",
       "      <td>3</td>\n",
       "      <td>fair-ok ok product</td>\n",
       "      <td>neutral</td>\n",
       "    </tr>\n",
       "    <tr>\n",
       "      <th>...</th>\n",
       "      <td>...</td>\n",
       "      <td>...</td>\n",
       "      <td>...</td>\n",
       "      <td>...</td>\n",
       "      <td>...</td>\n",
       "    </tr>\n",
       "    <tr>\n",
       "      <th>205044</th>\n",
       "      <td>cello Pack of 18 Opalware Cello Dazzle Lush Fi...</td>\n",
       "      <td>1299</td>\n",
       "      <td>5</td>\n",
       "      <td>must buy!-good product</td>\n",
       "      <td>positive</td>\n",
       "    </tr>\n",
       "    <tr>\n",
       "      <th>205045</th>\n",
       "      <td>cello Pack of 18 Opalware Cello Dazzle Lush Fi...</td>\n",
       "      <td>1299</td>\n",
       "      <td>5</td>\n",
       "      <td>super!-nice</td>\n",
       "      <td>positive</td>\n",
       "    </tr>\n",
       "    <tr>\n",
       "      <th>205046</th>\n",
       "      <td>cello Pack of 18 Opalware Cello Dazzle Lush Fi...</td>\n",
       "      <td>1299</td>\n",
       "      <td>3</td>\n",
       "      <td>nice-very nice and fast delivery</td>\n",
       "      <td>positive</td>\n",
       "    </tr>\n",
       "    <tr>\n",
       "      <th>205047</th>\n",
       "      <td>cello Pack of 18 Opalware Cello Dazzle Lush Fi...</td>\n",
       "      <td>1299</td>\n",
       "      <td>5</td>\n",
       "      <td>just wow!-awesome product</td>\n",
       "      <td>positive</td>\n",
       "    </tr>\n",
       "    <tr>\n",
       "      <th>205048</th>\n",
       "      <td>cello Pack of 18 Opalware Cello Dazzle Lush Fi...</td>\n",
       "      <td>1299</td>\n",
       "      <td>4</td>\n",
       "      <td>value-for-money-very good but mixing bowl not ...</td>\n",
       "      <td>neutral</td>\n",
       "    </tr>\n",
       "  </tbody>\n",
       "</table>\n",
       "<p>205049 rows × 5 columns</p>\n",
       "</div>"
      ],
      "text/plain": [
       "                                             product_name  product_price  \\\n",
       "0       Candes 12 L Room/Personal Air Cooler??????(Whi...           3999   \n",
       "1       Candes 12 L Room/Personal Air Cooler??????(Whi...           3999   \n",
       "2       Candes 12 L Room/Personal Air Cooler??????(Whi...           3999   \n",
       "3       Candes 12 L Room/Personal Air Cooler??????(Whi...           3999   \n",
       "4       Candes 12 L Room/Personal Air Cooler??????(Whi...           3999   \n",
       "...                                                   ...            ...   \n",
       "205044  cello Pack of 18 Opalware Cello Dazzle Lush Fi...           1299   \n",
       "205045  cello Pack of 18 Opalware Cello Dazzle Lush Fi...           1299   \n",
       "205046  cello Pack of 18 Opalware Cello Dazzle Lush Fi...           1299   \n",
       "205047  cello Pack of 18 Opalware Cello Dazzle Lush Fi...           1299   \n",
       "205048  cello Pack of 18 Opalware Cello Dazzle Lush Fi...           1299   \n",
       "\n",
       "        Rate                                             Review Sentiment  \n",
       "0          5  super!-great cooler excellent air flow and for...  positive  \n",
       "1          5      awesome-best budget 2 fit cooler nice cooling  positive  \n",
       "2          3  fair-the quality is good but the power of air ...  positive  \n",
       "3          1  useless product-very bad product its a only a fan  negative  \n",
       "4          3                                 fair-ok ok product   neutral  \n",
       "...      ...                                                ...       ...  \n",
       "205044     5                             must buy!-good product  positive  \n",
       "205045     5                                        super!-nice  positive  \n",
       "205046     3                   nice-very nice and fast delivery  positive  \n",
       "205047     5                          just wow!-awesome product  positive  \n",
       "205048     4  value-for-money-very good but mixing bowl not ...   neutral  \n",
       "\n",
       "[205049 rows x 5 columns]"
      ]
     },
     "execution_count": 8,
     "metadata": {},
     "output_type": "execute_result"
    }
   ],
   "source": [
    "data=data.drop(columns=[\"Summary\"])\n",
    "data"
   ]
  },
  {
   "cell_type": "code",
   "execution_count": 9,
   "id": "f24954d0",
   "metadata": {},
   "outputs": [],
   "source": [
    "data.fillna(' ', inplace=True)"
   ]
  },
  {
   "cell_type": "code",
   "execution_count": 10,
   "id": "650b9132",
   "metadata": {},
   "outputs": [
    {
     "data": {
      "text/plain": [
       "5    118765\n",
       "4     41894\n",
       "1     21300\n",
       "3     16599\n",
       "2      6491\n",
       "Name: Rate, dtype: int64"
      ]
     },
     "execution_count": 10,
     "metadata": {},
     "output_type": "execute_result"
    }
   ],
   "source": [
    "data['Rate'].value_counts()"
   ]
  },
  {
   "cell_type": "code",
   "execution_count": 11,
   "id": "c876f26f",
   "metadata": {},
   "outputs": [
    {
     "name": "stderr",
     "output_type": "stream",
     "text": [
      "C:\\Users\\ST-008\\AppData\\Local\\Temp\\ipykernel_1644\\3284205060.py:14: UserWarning: FixedFormatter should only be used together with FixedLocator\n",
      "  plt.gca().set_xticklabels(df['Rate'], rotation=60, horizontalalignment= 'right')\n"
     ]
    },
    {
     "data": {
      "image/png": "[encoded data removed]",
      "text/plain": [
       "<Figure size 800x480 with 1 Axes>"
      ]
     },
     "metadata": {},
     "output_type": "display_data"
    }
   ],
   "source": [
    "df = data.groupby('Rate').size().reset_index(name='counts')\n",
    "n = df['Rate'].unique().__len__()+1\n",
    "all_colors = list(plt.cm.colors.cnames.keys())\n",
    "random.seed(100)\n",
    "c = random.choices(all_colors, k=n)\n",
    "\n",
    "# Plot Bars\n",
    "plt.figure(figsize=(10,6), dpi= 80)\n",
    "plt.bar(df['Rate'], df['counts'], color=c, width=.5)\n",
    "for i, val in enumerate(df['counts'].values):\n",
    "    plt.text(i, val, float(val), horizontalalignment='center', verticalalignment='bottom', fontdict={'fontweight':500, 'size':12})\n",
    "\n",
    "# Decoration\n",
    "plt.gca().set_xticklabels(df['Rate'], rotation=60, horizontalalignment= 'right')\n",
    "\n",
    "plt.ylim(0, 150000)\n",
    "plt.show()"
   ]
  },
  {
   "cell_type": "code",
   "execution_count": 12,
   "id": "f4a8fc62",
   "metadata": {},
   "outputs": [
    {
     "data": {
      "text/plain": [
       "1    50000\n",
       "2    50000\n",
       "3    50000\n",
       "4    50000\n",
       "5    50000\n",
       "Name: Rate, dtype: int64"
      ]
     },
     "execution_count": 12,
     "metadata": {},
     "output_type": "execute_result"
    }
   ],
   "source": [
    "from sklearn.utils import resample\n",
    "# Separate majority and minority classes\n",
    "df_majority = data[data['Rate']== 5]\n",
    "df_minority1 = data[data['Rate']== 4]\n",
    "df_minority2 = data[data['Rate']== 3]\n",
    "df_minority3 = data[data['Rate']== 2]\n",
    "df_minority4 = data[data['Rate']== 1]\n",
    " \n",
    "# Downsample majority class and upsample the minority class\n",
    "df_minority4_upsampled = resample(df_minority4, replace=True,n_samples=50000,random_state=123) \n",
    "df_minority3_upsampled = resample(df_minority3, replace=True,n_samples=50000,random_state=123)\n",
    "df_minority2_upsampled = resample(df_minority2, replace=True,n_samples=50000,random_state=123) \n",
    "df_minority1_upsampled = resample(df_minority1, replace=True,n_samples=50000,random_state=123)\n",
    "df_majority_downsampled = resample(df_majority, replace=True,n_samples=50000,random_state=123) \n",
    "\n",
    " \n",
    " \n",
    "# Combine minority class with downsampled majority class\n",
    "df_upsampled = pd.concat([df_minority4_upsampled,df_minority3_upsampled,df_minority2_upsampled,df_minority1_upsampled,df_majority_downsampled])\n",
    " \n",
    "# Display new class counts\n",
    "df_upsampled['Rate'].value_counts()"
   ]
  },
  {
   "cell_type": "code",
   "execution_count": 13,
   "id": "19901b3e",
   "metadata": {},
   "outputs": [],
   "source": [
    "# shuffle the DataFrame rows \n",
    "data= df_upsampled.sample(frac = 1)"
   ]
  },
  {
   "cell_type": "code",
   "execution_count": 14,
   "id": "5e59506e",
   "metadata": {},
   "outputs": [
    {
     "name": "stderr",
     "output_type": "stream",
     "text": [
      "C:\\Users\\ST-008\\AppData\\Local\\Temp\\ipykernel_1644\\2110935023.py:15: UserWarning: FixedFormatter should only be used together with FixedLocator\n",
      "  plt.gca().set_xticklabels(df['Rate'], rotation=60, horizontalalignment= 'right')\n"
     ]
    },
    {
     "data": {
      "image/png": "[encoded data removed]",
      "text/plain": [
       "<Figure size 480x480 with 1 Axes>"
      ]
     },
     "metadata": {},
     "output_type": "display_data"
    }
   ],
   "source": [
    "# Prepare Data\n",
    "df = data.groupby('Rate').size().reset_index(name='counts')\n",
    "n = df['Rate'].unique().__len__()\n",
    "all_colors = list(plt.cm.colors.cnames.keys())\n",
    "random.seed(100)\n",
    "c = random.choices(all_colors, k=n)\n",
    "\n",
    "# Plot Bars\n",
    "plt.figure(figsize=(6,6), dpi= 80)\n",
    "plt.bar(df['Rate'], df['counts'], color=c, width=.5)\n",
    "for i, val in enumerate(df['counts'].values):\n",
    "    plt.text(i, val, float(val), horizontalalignment='center', verticalalignment='bottom', fontdict={'fontweight':500, 'size':12})\n",
    "\n",
    "# Decoration\n",
    "plt.gca().set_xticklabels(df['Rate'], rotation=60, horizontalalignment= 'right')\n",
    "\n",
    "plt.ylim(0,25000)\n",
    "plt.show()"
   ]
  },
  {
   "cell_type": "code",
   "execution_count": 15,
   "id": "e320b360",
   "metadata": {},
   "outputs": [],
   "source": [
    "import re\n",
    "\n",
    "def decontracted(phrase):\n",
    "    # specific\n",
    "    phrase = re.sub(r\"won't\", \"will not\", phrase)\n",
    "    phrase = re.sub(r\"can\\'t\", \"can not\", phrase)\n",
    "\n",
    "    # general\n",
    "    phrase = re.sub(r\"n\\'t\", \" not\", phrase)\n",
    "    phrase = re.sub(r\"\\'re\", \" are\", phrase)\n",
    "    phrase = re.sub(r\"\\'s\", \" is\", phrase)\n",
    "    phrase = re.sub(r\"\\'d\", \" would\", phrase)\n",
    "    phrase = re.sub(r\"\\'ll\", \" will\", phrase)\n",
    "    phrase = re.sub(r\"\\'t\", \" not\", phrase)\n",
    "    phrase = re.sub(r\"\\'ve\", \" have\", phrase)\n",
    "    phrase = re.sub(r\"\\'m\", \" am\", phrase)\n",
    "    return phrase"
   ]
  },
  {
   "cell_type": "code",
   "execution_count": 16,
   "id": "e6258a24",
   "metadata": {},
   "outputs": [],
   "source": [
    "# we are removing the words from the stop words list: 'no', 'nor', 'not'\n",
    "stopwords= ['i', 'me', 'my', 'myself', 'we', 'our', 'ours', 'ourselves', 'you', \"you're\", \"you've\",\\\n",
    "            \"you'll\", \"you'd\", 'your', 'yours', 'yourself', 'yourselves', 'he', 'him', 'his', 'himself', \\\n",
    "            'she', \"she's\", 'her', 'hers', 'herself', 'it', \"it's\", 'its', 'itself', 'they', 'them', 'their',\\\n",
    "            'theirs', 'themselves', 'what', 'which', 'who', 'whom', 'this', 'that', \"that'll\", 'these', 'those', \\\n",
    "            'am', 'is', 'are', 'was', 'were', 'be', 'been', 'being', 'have', 'has', 'had', 'having', 'do', 'does', \\\n",
    "            'did', 'doing', 'a', 'an', 'the', 'and', 'but', 'if', 'or', 'because', 'as', 'until', 'while', 'of', \\\n",
    "            'at', 'by', 'for', 'with', 'about', 'against', 'between', 'into', 'through', 'during', 'before', 'after',\\\n",
    "            'above', 'below', 'to', 'from', 'up', 'down', 'in', 'out', 'on', 'off', 'over', 'under', 'again', 'further',\\\n",
    "            'then', 'once', 'here', 'there', 'when', 'where', 'why', 'how', 'all', 'any', 'both', 'each', 'few', 'more',\\\n",
    "            'most', 'other', 'some', 'such', 'only', 'own', 'same', 'so', 'than', 'too', 'very', \\\n",
    "            's', 't', 'can', 'will', 'just', 'don', \"don't\", 'should', \"should've\", 'now', 'd', 'll', 'm', 'o', 're', \\\n",
    "            've', 'y', 'ain', 'aren', \"aren't\", 'couldn', \"couldn't\", 'didn', \"didn't\", 'doesn', \"doesn't\", 'hadn',\\\n",
    "            \"hadn't\", 'hasn', \"hasn't\", 'haven', \"haven't\", 'isn', \"isn't\", 'ma', 'mightn', \"mightn't\", 'mustn',\\\n",
    "            \"mustn't\", 'needn', \"needn't\", 'shan', \"shan't\", 'shouldn', \"shouldn't\", 'wasn', \"wasn't\", 'weren', \"weren't\", \\\n",
    "            'won', \"won't\", 'wouldn', \"wouldn't\"]"
   ]
  },
  {
   "cell_type": "code",
   "execution_count": 17,
   "id": "a55407cb",
   "metadata": {},
   "outputs": [
    {
     "data": {
      "text/plain": [
       "132052                                       fabulous!-good\n",
       "123796    expected a better product-bluetooth not workin...\n",
       "165930                            terrific purchase-perfect\n",
       "122008    worthless-most of the apps dont change to land...\n",
       "79484     must buy!-its good affordable nonsticky smooth...\n",
       "Name: Review, dtype: object"
      ]
     },
     "execution_count": 17,
     "metadata": {},
     "output_type": "execute_result"
    }
   ],
   "source": [
    "data['Review'].head(5)"
   ]
  },
  {
   "cell_type": "code",
   "execution_count": 18,
   "id": "eb895fc7",
   "metadata": {},
   "outputs": [
    {
     "name": "stdout",
     "output_type": "stream",
     "text": [
      "printing some random reviews\n",
      "9 not specified-super\n",
      "34 nan-very nice product i am so glad\n",
      "147 nan-bad product\n"
     ]
    }
   ],
   "source": [
    "print(\"printing some random reviews\")\n",
    "print(9, data['Review'].values[9])\n",
    "print(34, data['Review'].values[34])\n",
    "print(147, data['Review'].values[147])"
   ]
  },
  {
   "cell_type": "code",
   "execution_count": 19,
   "id": "f3004fda",
   "metadata": {},
   "outputs": [],
   "source": [
    "# Combining all the above stundents \n",
    "from tqdm import tqdm\n",
    "def preprocess_text(text_data):\n",
    "    preprocessed_text = []\n",
    "    # tqdm is for printing the status bar\n",
    "    for sentance in tqdm(text_data):\n",
    "        sent = decontracted(sentance)\n",
    "        sent = sent.replace('\\\\r', ' ')\n",
    "        sent = sent.replace('\\\\n', ' ')\n",
    "        sent = sent.replace('\\\\\"', ' ')\n",
    "        sent = re.sub('[^A-Za-z0-9]+', ' ', sent)\n",
    "        sent = ' '.join(e for e in sent.split() if e.lower() not in stopwords)\n",
    "        preprocessed_text.append(sent.lower().strip())\n",
    "    return preprocessed_text"
   ]
  },
  {
   "cell_type": "code",
   "execution_count": 20,
   "id": "403ffebb",
   "metadata": {},
   "outputs": [
    {
     "name": "stderr",
     "output_type": "stream",
     "text": [
      "100%|██████████| 250000/250000 [00:12<00:00, 20289.04it/s]\n"
     ]
    }
   ],
   "source": [
    "preprocessed_text = preprocess_text(data['Review'].values)"
   ]
  },
  {
   "cell_type": "code",
   "execution_count": 21,
   "id": "c8d1a992",
   "metadata": {},
   "outputs": [
    {
     "name": "stdout",
     "output_type": "stream",
     "text": [
      "printing some random reviews\n",
      "9 not specified super\n",
      "34 nan nice product glad\n",
      "147 nan bad product\n"
     ]
    }
   ],
   "source": [
    "print(\"printing some random reviews\")\n",
    "print(9, preprocessed_text[9])\n",
    "print(34, preprocessed_text[34])\n",
    "print(147, preprocessed_text[147])"
   ]
  },
  {
   "cell_type": "code",
   "execution_count": 22,
   "id": "708760c9",
   "metadata": {},
   "outputs": [],
   "source": [
    "y=np.array(data['Rate'])"
   ]
  },
  {
   "cell_type": "code",
   "execution_count": 23,
   "id": "d5d784f8",
   "metadata": {},
   "outputs": [],
   "source": [
    "from sklearn.model_selection import train_test_split\n",
    "#Breaking into Train and test\n",
    "X_train, X_test, y_train, y_test = train_test_split(preprocessed_text, y, test_size=0.3,stratify=y ,random_state=42)"
   ]
  },
  {
   "cell_type": "code",
   "execution_count": 24,
   "id": "97afe65f",
   "metadata": {},
   "outputs": [],
   "source": [
    "import pickle"
   ]
  },
  {
   "cell_type": "code",
   "execution_count": 25,
   "id": "1376e3a8",
   "metadata": {},
   "outputs": [
    {
     "name": "stdout",
     "output_type": "stream",
     "text": [
      "Train Data Size:  (175000, 5000)\n",
      "Test Data Size:  (75000, 5000)\n"
     ]
    }
   ],
   "source": [
    "from sklearn import preprocessing\n",
    "\n",
    "count_vect = CountVectorizer(max_features = 5000)\n",
    "count_trans = count_vect.fit(X_train) # fit has to happen only on train data\n",
    "\n",
    "# Dump the file\n",
    "pickle.dump(count_trans, open(r\"C:\\Users\\ST-008\\Desktop\\Flipkart\\CODE\\FRONT END\\new_project/count_vect.pkl\", \"wb\"))\n",
    "\n",
    "\n",
    "# Testing phase\n",
    "count = pickle.load(open(r\"C:\\Users\\ST-008\\Desktop\\Flipkart\\CODE\\FRONT END\\new_project/count_vect.pkl\", 'rb'))\n",
    "\n",
    "# we use the fitted CountVectorizer to convert the text to vector\n",
    "X_train_count =count.transform(X_train)\n",
    "X_test_count = count.transform(X_test)\n",
    "\n",
    "#Normalize Data\n",
    "X_train_count = preprocessing.normalize(X_train_count)\n",
    "print(\"Train Data Size: \",X_train_count.shape)\n",
    "\n",
    "#Normalize Data\n",
    "X_test_count = preprocessing.normalize(X_test_count)\n",
    "print(\"Test Data Size: \",X_test_count.shape)\n"
   ]
  },
  {
   "cell_type": "code",
   "execution_count": 26,
   "id": "b7618b45",
   "metadata": {},
   "outputs": [],
   "source": [
    "from sklearn.metrics import accuracy_score"
   ]
  },
  {
   "cell_type": "code",
   "execution_count": 27,
   "id": "a95e1f3f",
   "metadata": {},
   "outputs": [],
   "source": [
    "import warnings\n",
    "warnings.filterwarnings(\"ignore\")"
   ]
  },
  {
   "cell_type": "code",
   "execution_count": 28,
   "id": "d72ee8d1",
   "metadata": {},
   "outputs": [
    {
     "data": {
      "image/png": "[encoded data removed]",
      "text/plain": [
       "<Figure size 640x480 with 1 Axes>"
      ]
     },
     "metadata": {},
     "output_type": "display_data"
    },
    {
     "name": "stdout",
     "output_type": "stream",
     "text": [
      "optimal c for which auc is maximum :  1\n"
     ]
    }
   ],
   "source": [
    "from sklearn.linear_model import LogisticRegression\n",
    "from sklearn.metrics import roc_auc_score\n",
    "import math\n",
    "\n",
    "c = [10000,1000,100,10,1,0.1,0.01,0.001,0.0001,0.00001]\n",
    "\n",
    "train_auc = []\n",
    "test_auc = []\n",
    "\n",
    "for i in c:\n",
    "    log = LogisticRegression(penalty='l2',C=i)\n",
    "    log.fit(X_train_count,y_train)\n",
    "    prob_test = log.predict(X_test_count)\n",
    "    test_auc.append(accuracy_score(y_test,prob_test))\n",
    "    prob_train = log.predict(X_train_count)\n",
    "    train_auc.append(accuracy_score(y_train,prob_train))\n",
    "optimal_c= c[test_auc.index(max(test_auc))]\n",
    "c = [math.log(x) for x in c]\n",
    "\n",
    "#plot accuracy vs alpha\n",
    "x = plt.subplot( )\n",
    "x.plot(c, train_auc, label='Accuracy train')\n",
    "x.plot(c, test_auc, label='Accuracy test')\n",
    "plt.title('Accuracy vs hyperparameter')\n",
    "plt.xlabel('c')\n",
    "plt.ylabel('Accuracy')\n",
    "x.legend()\n",
    "plt.show()\n",
    "\n",
    "print('optimal c for which auc is maximum : ',optimal_c)"
   ]
  },
  {
   "cell_type": "code",
   "execution_count": 29,
   "id": "79714eae",
   "metadata": {},
   "outputs": [
    {
     "name": "stdout",
     "output_type": "stream",
     "text": [
      "Accuracy on Test data is 0.8481066666666667\n",
      "Accuracy on Train data is 0.8554742857142857\n",
      "---------------------------\n"
     ]
    },
    {
     "data": {
      "image/png": "[encoded data removed]",
      "text/plain": [
       "<Figure size 640x480 with 2 Axes>"
      ]
     },
     "metadata": {},
     "output_type": "display_data"
    }
   ],
   "source": [
    "#Testing AUC on Test data\n",
    "log = LogisticRegression(penalty='l2',C=optimal_c)\n",
    "log.fit(X_train_count,y_train)\n",
    "\n",
    "filename = r'C:\\Users\\ST-008\\Desktop\\Flipkart\\CODE\\FRONT END\\new_project/Flipkart_log_bow.pkl'\n",
    "pickle.dump(log, open(filename, 'wb'))\n",
    "\n",
    "pred_test =log.predict(X_test_count)\n",
    "test_accuracy = accuracy_score(y_test, pred_test)\n",
    "pred_train = log.predict(X_train_count)\n",
    "train_accuracy =accuracy_score(y_train,pred_train) \n",
    "\n",
    "print(\"Accuracy on Test data is \" +str(accuracy_score(y_test,pred_test)))\n",
    "print(\"Accuracy on Train data is \" +str(accuracy_score(y_train,pred_train)))\n",
    "\n",
    "print(\"---------------------------\")\n",
    "\n",
    "# Code for drawing seaborn heatmaps\n",
    "from sklearn.metrics import confusion_matrix\n",
    "\n",
    "df_heatmap = pd.DataFrame(confusion_matrix(y_test, pred_test))\n",
    "fig = plt.figure( )\n",
    "heatmap = sns.heatmap(df_heatmap, annot=True, fmt=\"d\")"
   ]
  },
  {
   "cell_type": "code",
   "execution_count": 30,
   "id": "daf79b5c",
   "metadata": {},
   "outputs": [],
   "source": [
    "results=pd.DataFrame(columns=['Featuraization', 'Model' , 'Train-AUC', 'Test-AUC' ])\n",
    "new = ['BOW','Logistic Regression',0.8565,0.8478]\n",
    "results.loc[0] = new"
   ]
  },
  {
   "cell_type": "code",
   "execution_count": 31,
   "id": "bcf4925d",
   "metadata": {},
   "outputs": [],
   "source": [
    "from sklearn.ensemble import RandomForestClassifier\n",
    "from sklearn.metrics import accuracy_score\n",
    "from sklearn.model_selection import GridSearchCV\n",
    "from sklearn.metrics import roc_curve"
   ]
  },
  {
   "cell_type": "code",
   "execution_count": 32,
   "id": "abf5ca06",
   "metadata": {},
   "outputs": [
    {
     "name": "stdout",
     "output_type": "stream",
     "text": [
      "Accuracy on Test data is 0.9063733333333334\n",
      "Accuracy on Train data is 0.9286857142857143\n",
      "---------------------------\n"
     ]
    },
    {
     "data": {
      "image/png": "[encoded data removed]",
      "text/plain": [
       "<Figure size 640x480 with 2 Axes>"
      ]
     },
     "metadata": {},
     "output_type": "display_data"
    }
   ],
   "source": [
    "#training our model for max_depth=100,n_estimators = 120\n",
    "clf = RandomForestClassifier(max_depth = 100,n_estimators =120)\n",
    "clf.fit(X_train_count,y_train)\n",
    "\n",
    "import pickle\n",
    "filename = r'C:\\Users\\ST-008\\Desktop\\Flipkart\\CODE\\FRONT END\\new_project/Flipkart_RF_bow.pkl'\n",
    "pickle.dump(clf, open(filename, 'wb'))\n",
    "\n",
    "pred_test =clf.predict(X_test_count)\n",
    "test_accuracy = accuracy_score(y_test, pred_test)\n",
    "pred_train = clf.predict(X_train_count)\n",
    "train_accuracy =accuracy_score(y_train,pred_train)\n",
    "\n",
    "\n",
    "print(\"Accuracy on Test data is \" +str(test_accuracy))\n",
    "print(\"Accuracy on Train data is \"+str(train_accuracy))\n",
    "\n",
    "print(\"---------------------------\")\n",
    "\n",
    "# Code for drawing seaborn heatmaps\n",
    "\n",
    "df_heatmap = pd.DataFrame(confusion_matrix(y_test, pred_test))\n",
    "fig = plt.figure( )\n",
    "heatmap = sns.heatmap(df_heatmap, annot=True, fmt=\"d\")"
   ]
  },
  {
   "cell_type": "code",
   "execution_count": 33,
   "id": "2113c63d",
   "metadata": {},
   "outputs": [
    {
     "name": "stdout",
     "output_type": "stream",
     "text": [
      "              precision    recall  f1-score   support\n",
      "\n",
      "           1       0.96      0.95      0.96     15000\n",
      "           2       0.94      0.95      0.94     15000\n",
      "           3       0.85      0.91      0.88     15000\n",
      "           4       0.87      0.85      0.86     15000\n",
      "           5       0.93      0.87      0.90     15000\n",
      "\n",
      "    accuracy                           0.91     75000\n",
      "   macro avg       0.91      0.91      0.91     75000\n",
      "weighted avg       0.91      0.91      0.91     75000\n",
      "\n"
     ]
    }
   ],
   "source": [
    "from sklearn.metrics import classification_report\n",
    "print(classification_report(y_test, pred_test))"
   ]
  },
  {
   "cell_type": "code",
   "execution_count": 34,
   "id": "7d3c02f6",
   "metadata": {},
   "outputs": [],
   "source": [
    "new = ['BOW','Random Forest',0.9277,0.9073]\n",
    "results.loc[1] = new"
   ]
  },
  {
   "cell_type": "code",
   "execution_count": 35,
   "id": "b91a7f16",
   "metadata": {},
   "outputs": [
    {
     "data": {
      "text/html": [
       "<div>\n",
       "<style scoped>\n",
       "    .dataframe tbody tr th:only-of-type {\n",
       "        vertical-align: middle;\n",
       "    }\n",
       "\n",
       "    .dataframe tbody tr th {\n",
       "        vertical-align: top;\n",
       "    }\n",
       "\n",
       "    .dataframe thead th {\n",
       "        text-align: right;\n",
       "    }\n",
       "</style>\n",
       "<table border=\"1\" class=\"dataframe\">\n",
       "  <thead>\n",
       "    <tr style=\"text-align: right;\">\n",
       "      <th></th>\n",
       "      <th>Featuraization</th>\n",
       "      <th>Model</th>\n",
       "      <th>Train-AUC</th>\n",
       "      <th>Test-AUC</th>\n",
       "    </tr>\n",
       "  </thead>\n",
       "  <tbody>\n",
       "    <tr>\n",
       "      <th>0</th>\n",
       "      <td>BOW</td>\n",
       "      <td>Logistic Regression</td>\n",
       "      <td>0.8565</td>\n",
       "      <td>0.8478</td>\n",
       "    </tr>\n",
       "    <tr>\n",
       "      <th>1</th>\n",
       "      <td>BOW</td>\n",
       "      <td>Random Forest</td>\n",
       "      <td>0.9277</td>\n",
       "      <td>0.9073</td>\n",
       "    </tr>\n",
       "  </tbody>\n",
       "</table>\n",
       "</div>"
      ],
      "text/plain": [
       "  Featuraization                Model  Train-AUC  Test-AUC\n",
       "0            BOW  Logistic Regression     0.8565    0.8478\n",
       "1            BOW        Random Forest     0.9277    0.9073"
      ]
     },
     "execution_count": 35,
     "metadata": {},
     "output_type": "execute_result"
    }
   ],
   "source": [
    "results"
   ]
  },
  {
   "cell_type": "code",
   "execution_count": null,
   "id": "f2d278d9",
   "metadata": {},
   "outputs": [],
   "source": []
  }
 ],
 "metadata": {
  "kernelspec": {
   "display_name": "Python 3 (ipykernel)",
   "language": "python",
   "name": "python3"
  },
  "language_info": {
   "codemirror_mode": {
    "name": "ipython",
    "version": 3
   },
   "file_extension": ".py",
   "mimetype": "text/x-python",
   "name": "python",
   "nbconvert_exporter": "python",
   "pygments_lexer": "ipython3",
   "version": "3.9.13"
  }
 },
 "nbformat": 4,
 "nbformat_minor": 5
}
